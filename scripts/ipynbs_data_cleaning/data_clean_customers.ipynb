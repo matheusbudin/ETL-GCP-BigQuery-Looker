{
  "cells": [
    {
      "cell_type": "code",
      "execution_count": 1,
      "metadata": {
        "colab": {
          "base_uri": "https://localhost:8080/"
        },
        "id": "z8t3WrLfAnU4",
        "outputId": "168b2700-0678-4570-e8ca-030a80099844"
      },
      "outputs": [
        {
          "name": "stdout",
          "output_type": "stream",
          "text": [
            "Collecting pyspark\n",
            "  Downloading pyspark-3.4.1.tar.gz (310.8 MB)\n",
            "\u001b[2K     \u001b[90m━━━━━━━━━━━━━━━━━━━━━━━━━━━━━━━━━━━━━━━\u001b[0m \u001b[32m310.8/310.8 MB\u001b[0m \u001b[31m3.7 MB/s\u001b[0m eta \u001b[36m0:00:00\u001b[0m\n",
            "\u001b[?25h  Preparing metadata (setup.py) ... \u001b[?25l\u001b[?25hdone\n",
            "Requirement already satisfied: py4j==0.10.9.7 in /usr/local/lib/python3.10/dist-packages (from pyspark) (0.10.9.7)\n",
            "Building wheels for collected packages: pyspark\n",
            "  Building wheel for pyspark (setup.py) ... \u001b[?25l\u001b[?25hdone\n",
            "  Created wheel for pyspark: filename=pyspark-3.4.1-py2.py3-none-any.whl size=311285387 sha256=4aa9639b374aec1728da0542b1440868995a6008381a9e24022b7e21c0a24cb2\n",
            "  Stored in directory: /root/.cache/pip/wheels/0d/77/a3/ff2f74cc9ab41f8f594dabf0579c2a7c6de920d584206e0834\n",
            "Successfully built pyspark\n",
            "Installing collected packages: pyspark\n",
            "Successfully installed pyspark-3.4.1\n"
          ]
        }
      ],
      "source": [
        "!pip install pyspark"
      ]
    },
    {
      "cell_type": "code",
      "execution_count": 53,
      "metadata": {
        "colab": {
          "base_uri": "https://localhost:8080/"
        },
        "id": "OIQQ2yFOAwAh",
        "outputId": "9e1554e6-6161-405b-ec66-87ce2d4da179"
      },
      "outputs": [
        {
          "name": "stdout",
          "output_type": "stream",
          "text": [
            "root\n",
            " |-- CustomerID: integer (nullable = true)\n",
            " |-- PersonID: string (nullable = true)\n",
            " |-- StoreID: float (nullable = true)\n",
            " |-- TerritoryID: integer (nullable = true)\n",
            " |-- AccountNumber: string (nullable = true)\n",
            " |-- rowguid: string (nullable = true)\n",
            " |-- ModifiedDate: timestamp (nullable = true)\n",
            "\n"
          ]
        }
      ],
      "source": [
        "from pyspark.sql import SparkSession\n",
        "from pyspark.sql.types import StructType, StructField, StringType, IntegerType, FloatType, TimestampType\n",
        "from pyspark.sql.functions import col, regexp_replace, trim\n",
        "\n",
        "# Create a Spark session\n",
        "spark = SparkSession.builder.appName(\"data_clean_customers\").getOrCreate()\n",
        "\n",
        "# Define the schema so it matches with the Big Query later\n",
        "# NOTE: Please adjust the column names and types according to your CSV's columns.\n",
        "schema = StructType([\n",
        "    StructField(\"CustomerID\", IntegerType(), nullable=False),\n",
        "    StructField(\"PersonID\", StringType(), nullable=True),\n",
        "    StructField(\"StoreID\", FloatType(), nullable=True),\n",
        "    StructField(\"TerritoryID\", IntegerType(), nullable=True),\n",
        "    StructField(\"AccountNumber\", StringType(), nullable=True),\n",
        "    StructField(\"rowguid\", StringType(), nullable=True),\n",
        "    StructField(\"ModifiedDate\", TimestampType(), nullable=True)\n",
        "])\n",
        "\n",
        "# Read the CSV file using the defined schema\n",
        "df = spark.read.csv('Sales.Customer.csv', sep=';',encoding='utf-8', header=True, schema=schema)\n",
        "df.printSchema()\n",
        "\n"
      ]
    },
    {
      "cell_type": "code",
      "execution_count": 54,
      "metadata": {
        "id": "KsOxFZUTFnqf"
      },
      "outputs": [],
      "source": [
        "# Remove leading and trailing white spaces from all column names\n",
        "df = df.select([col(column).alias(column.strip()) for column in df.columns])\n",
        "\n",
        "# Clean the 'StoreID' column by stripping leading and trailing white spaces\n",
        "df = df.withColumn('StoreID', trim(col('StoreID')))\n",
        "\n",
        "# Convert the 'StoreID' column to integers, replacing non-numeric values with null\n",
        "df = df.withColumn('StoreID', col('StoreID').cast(IntegerType()))\n",
        "\n",
        "# Drop rows with null values in the 'StoreID' column\n",
        "df = df.filter(col('StoreID').isNotNull())\n",
        "# df.show(5)\n",
        "\n"
      ]
    },
    {
      "cell_type": "code",
      "execution_count": 55,
      "metadata": {
        "colab": {
          "base_uri": "https://localhost:8080/"
        },
        "id": "o6V8G3BTBnkb",
        "outputId": "710d27d3-a4e2-4f10-e1f7-67dbb93a3b64"
      },
      "outputs": [
        {
          "name": "stdout",
          "output_type": "stream",
          "text": [
            "+----------+--------+-------+-----------+-------------+--------------------+--------------------+\n",
            "|CustomerID|PersonID|StoreID|TerritoryID|AccountNumber|             rowguid|        ModifiedDate|\n",
            "+----------+--------+-------+-----------+-------------+--------------------+--------------------+\n",
            "|         1|        |    934|          1|   AW00000001|3F5AE95E-B87D-4AE...|2014-09-12 11:15:...|\n",
            "|         2|        |   1028|          1|   AW00000002|E552F657-A9AF-4A7...|2014-09-12 11:15:...|\n",
            "|         3|        |    642|          4|   AW00000003|130774B1-DB21-4EF...|2014-09-12 11:15:...|\n",
            "|         4|        |    932|          4|   AW00000004|FF862851-1DAA-404...|2014-09-12 11:15:...|\n",
            "|         5|        |   1026|          4|   AW00000005|83905BDC-6F5E-4F7...|2014-09-12 11:15:...|\n",
            "|         6|        |    644|          4|   AW00000006|1A92DF88-BFA2-467...|2014-09-12 11:15:...|\n",
            "|         7|        |    930|          1|   AW00000007|03E9273E-B193-448...|2014-09-12 11:15:...|\n",
            "|         8|        |   1024|          5|   AW00000008|801368B1-4323-4BF...|2014-09-12 11:15:...|\n",
            "|         9|        |    620|          5|   AW00000009|B900BB7F-23C3-481...|2014-09-12 11:15:...|\n",
            "|        10|        |    928|          6|   AW00000010|CDB6698D-2FF1-4FB...|2014-09-12 11:15:...|\n",
            "|        11|        |   1022|          6|   AW00000011|750F3495-59C4-48A...|2014-09-12 11:15:...|\n",
            "|        12|        |    622|          6|   AW00000012|947BCAF1-1F32-44F...|2014-09-12 11:15:...|\n",
            "|        13|        |    434|          7|   AW00000013|B0FA5854-2511-439...|2014-09-12 11:15:...|\n",
            "|        14|        |   1020|          8|   AW00000014|2F96BEDC-723D-468...|2014-09-12 11:15:...|\n",
            "|        15|        |    624|          9|   AW00000015|0340737B-D4FA-479...|2014-09-12 11:15:...|\n",
            "|        16|        |    432|         10|   AW00000016|C9381589-D31C-4EF...|2014-09-12 11:15:...|\n",
            "|        17|        |   1018|          5|   AW00000017|34DB417F-1E0B-440...|2014-09-12 11:15:...|\n",
            "|        18|        |   1332|          3|   AW00000018|C04D6B4D-94C6-4C5...|2014-09-12 11:15:...|\n",
            "|        19|        |    430|          1|   AW00000019|69AE5D43-31BE-4B7...|2014-09-12 11:15:...|\n",
            "|        20|        |   1016|          1|   AW00000020|E010C10A-F1C3-4BB...|2014-09-12 11:15:...|\n",
            "+----------+--------+-------+-----------+-------------+--------------------+--------------------+\n",
            "only showing top 20 rows\n",
            "\n",
            "root\n",
            " |-- CustomerID: integer (nullable = true)\n",
            " |-- PersonID: string (nullable = true)\n",
            " |-- StoreID: integer (nullable = true)\n",
            " |-- TerritoryID: integer (nullable = true)\n",
            " |-- AccountNumber: string (nullable = true)\n",
            " |-- rowguid: string (nullable = true)\n",
            " |-- ModifiedDate: timestamp (nullable = true)\n",
            "\n"
          ]
        }
      ],
      "source": [
        "\n",
        "for column in df.columns:\n",
        "    # Store the original data type\n",
        "    original_type = df.schema[column].dataType\n",
        "\n",
        "    # Replace \"null\" cases and then cast back to original type\n",
        "    df = df.withColumn(column, regexp_replace(col(column), \"(?i)NULL\", \"\").cast(original_type))\n",
        "\n",
        "# Show top rows\n",
        "df.show()\n",
        "df.printSchema()\n",
        "\n"
      ]
    },
    {
      "cell_type": "code",
      "execution_count": 57,
      "metadata": {
        "colab": {
          "base_uri": "https://localhost:8080/"
        },
        "id": "r51GQNbiBnUn",
        "outputId": "41129b61-31bc-46ed-90d5-739b57b54a92"
      },
      "outputs": [
        {
          "name": "stdout",
          "output_type": "stream",
          "text": [
            "+----------+--------+-------+-----------+-------------+--------------------+--------------------+\n",
            "|CustomerID|PersonID|StoreID|TerritoryID|AccountNumber|             rowguid|        ModifiedDate|\n",
            "+----------+--------+-------+-----------+-------------+--------------------+--------------------+\n",
            "|         1|        |    934|          1|   AW00000001|3F5AE95E-B87D-4AE...|2014-09-12 11:15:...|\n",
            "|         2|        |   1028|          1|   AW00000002|E552F657-A9AF-4A7...|2014-09-12 11:15:...|\n",
            "|         3|        |    642|          4|   AW00000003|130774B1-DB21-4EF...|2014-09-12 11:15:...|\n",
            "|         4|        |    932|          4|   AW00000004|FF862851-1DAA-404...|2014-09-12 11:15:...|\n",
            "|         5|        |   1026|          4|   AW00000005|83905BDC-6F5E-4F7...|2014-09-12 11:15:...|\n",
            "|         6|        |    644|          4|   AW00000006|1A92DF88-BFA2-467...|2014-09-12 11:15:...|\n",
            "|         7|        |    930|          1|   AW00000007|03E9273E-B193-448...|2014-09-12 11:15:...|\n",
            "|         8|        |   1024|          5|   AW00000008|801368B1-4323-4BF...|2014-09-12 11:15:...|\n",
            "|         9|        |    620|          5|   AW00000009|B900BB7F-23C3-481...|2014-09-12 11:15:...|\n",
            "|        10|        |    928|          6|   AW00000010|CDB6698D-2FF1-4FB...|2014-09-12 11:15:...|\n",
            "|        11|        |   1022|          6|   AW00000011|750F3495-59C4-48A...|2014-09-12 11:15:...|\n",
            "|        12|        |    622|          6|   AW00000012|947BCAF1-1F32-44F...|2014-09-12 11:15:...|\n",
            "|        13|        |    434|          7|   AW00000013|B0FA5854-2511-439...|2014-09-12 11:15:...|\n",
            "|        14|        |   1020|          8|   AW00000014|2F96BEDC-723D-468...|2014-09-12 11:15:...|\n",
            "|        15|        |    624|          9|   AW00000015|0340737B-D4FA-479...|2014-09-12 11:15:...|\n",
            "|        16|        |    432|         10|   AW00000016|C9381589-D31C-4EF...|2014-09-12 11:15:...|\n",
            "|        17|        |   1018|          5|   AW00000017|34DB417F-1E0B-440...|2014-09-12 11:15:...|\n",
            "|        18|        |   1332|          3|   AW00000018|C04D6B4D-94C6-4C5...|2014-09-12 11:15:...|\n",
            "|        19|        |    430|          1|   AW00000019|69AE5D43-31BE-4B7...|2014-09-12 11:15:...|\n",
            "|        20|        |   1016|          1|   AW00000020|E010C10A-F1C3-4BB...|2014-09-12 11:15:...|\n",
            "+----------+--------+-------+-----------+-------------+--------------------+--------------------+\n",
            "only showing top 20 rows\n",
            "\n"
          ]
        }
      ],
      "source": [
        "# Show top rows\n",
        "df.show()\n",
        "\n",
        "# Write the dataframe back to a CSV\n",
        "df.write.csv('table_customer.csv', header=True, mode='overwrite')\n",
        "\n"
      ]
    },
    {
      "cell_type": "code",
      "execution_count": 51,
      "metadata": {
        "colab": {
          "base_uri": "https://localhost:8080/"
        },
        "id": "jQ5ZaGeDE5km",
        "outputId": "29e8ac77-e30c-48c6-eb18-fc5daa5b4cee"
      },
      "outputs": [
        {
          "name": "stdout",
          "output_type": "stream",
          "text": [
            "root\n",
            " |-- CustomerID: integer (nullable = true)\n",
            " |-- PersonID: string (nullable = true)\n",
            " |-- StoreID: integer (nullable = true)\n",
            " |-- TerritoryID: integer (nullable = true)\n",
            " |-- AccountNumber: string (nullable = true)\n",
            " |-- rowguid: string (nullable = true)\n",
            " |-- ModifiedDate: timestamp (nullable = true)\n",
            "\n"
          ]
        }
      ],
      "source": [
        "df.printSchema()"
      ]
    },
    {
      "cell_type": "code",
      "execution_count": 52,
      "metadata": {
        "id": "hvCjOaixHHNs"
      },
      "outputs": [],
      "source": [
        "# Close Spark session\n",
        "spark.stop()"
      ]
    }
  ],
  "metadata": {
    "colab": {
      "provenance": []
    },
    "kernelspec": {
      "display_name": "Python 3",
      "name": "python3"
    },
    "language_info": {
      "name": "python"
    }
  },
  "nbformat": 4,
  "nbformat_minor": 0
}
