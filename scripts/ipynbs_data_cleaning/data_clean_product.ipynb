{
  "nbformat": 4,
  "nbformat_minor": 0,
  "metadata": {
    "colab": {
      "provenance": []
    },
    "kernelspec": {
      "name": "python3",
      "display_name": "Python 3"
    },
    "language_info": {
      "name": "python"
    }
  },
  "cells": [
    {
      "cell_type": "code",
      "source": [
        "!pip install pyspark"
      ],
      "metadata": {
        "colab": {
          "base_uri": "https://localhost:8080/"
        },
        "id": "xD8gOcg3Qa_e",
        "outputId": "822bb082-697a-46a9-eebf-432cf87a2e22"
      },
      "execution_count": 1,
      "outputs": [
        {
          "output_type": "stream",
          "name": "stdout",
          "text": [
            "Collecting pyspark\n",
            "  Downloading pyspark-3.4.1.tar.gz (310.8 MB)\n",
            "\u001b[2K     \u001b[90m━━━━━━━━━━━━━━━━━━━━━━━━━━━━━━━━━━━━━━━\u001b[0m \u001b[32m310.8/310.8 MB\u001b[0m \u001b[31m3.6 MB/s\u001b[0m eta \u001b[36m0:00:00\u001b[0m\n",
            "\u001b[?25h  Preparing metadata (setup.py) ... \u001b[?25l\u001b[?25hdone\n",
            "Requirement already satisfied: py4j==0.10.9.7 in /usr/local/lib/python3.10/dist-packages (from pyspark) (0.10.9.7)\n",
            "Building wheels for collected packages: pyspark\n",
            "  Building wheel for pyspark (setup.py) ... \u001b[?25l\u001b[?25hdone\n",
            "  Created wheel for pyspark: filename=pyspark-3.4.1-py2.py3-none-any.whl size=311285387 sha256=019995b6ca84b02e82fc59a8f04ec5123c0ef0a35471f3e15862238a505e3a58\n",
            "  Stored in directory: /root/.cache/pip/wheels/0d/77/a3/ff2f74cc9ab41f8f594dabf0579c2a7c6de920d584206e0834\n",
            "Successfully built pyspark\n",
            "Installing collected packages: pyspark\n",
            "Successfully installed pyspark-3.4.1\n"
          ]
        }
      ]
    },
    {
      "cell_type": "code",
      "source": [
        "from pyspark.sql import SparkSession\n",
        "from pyspark.sql.types import *\n",
        "from pyspark.sql.functions import *"
      ],
      "metadata": {
        "id": "JcyLQlkjQa8x"
      },
      "execution_count": 34,
      "outputs": []
    },
    {
      "cell_type": "code",
      "source": [
        "spark = SparkSession.builder.appName(\"table_products\").getOrCreate()\n",
        "\n",
        "schema = StructType([\n",
        "    StructField(\"ProductID\", IntegerType()),\n",
        "    StructField(\"Name\", StringType()),\n",
        "    StructField(\"ProductNumber\", StringType()),\n",
        "    StructField(\"MakeFlag\", IntegerType()),\n",
        "    StructField(\"FinishedGoodsFlag\", IntegerType()),\n",
        "    StructField(\"Color\", StringType()),\n",
        "    StructField(\"SafetyStockLevel\", IntegerType()),\n",
        "    StructField(\"ReorderPoint\", IntegerType()),\n",
        "    StructField(\"StandardCost\", FloatType()),\n",
        "    StructField(\"ListPrice\", FloatType()),\n",
        "    StructField(\"Size\", StringType()),\n",
        "    StructField(\"SizeUnitMeasureCode\", StringType()),\n",
        "    StructField(\"WeightUnitMeasureCode\", StringType()),\n",
        "    StructField(\"Weight\", FloatType()),\n",
        "    StructField(\"DaysToManufacture\", IntegerType()),\n",
        "    StructField(\"ProductLine\", StringType()),\n",
        "    StructField(\"Class\", StringType()),\n",
        "    StructField(\"Style\", StringType()),\n",
        "    StructField(\"ProductSubcategoryID\", IntegerType()),\n",
        "    StructField(\"ProductModelID\", IntegerType()),\n",
        "    StructField(\"SellStartDate\", TimestampType()),\n",
        "    StructField(\"SellEndDate\", TimestampType()),\n",
        "    StructField(\"DiscontinuedDate\", TimestampType()),\n",
        "    StructField(\"rowguid\", StringType()),\n",
        "    StructField(\"ModifiedDate\", TimestampType())\n",
        "])\n"
      ],
      "metadata": {
        "id": "i8mV2fOVRPgb"
      },
      "execution_count": 40,
      "outputs": []
    },
    {
      "cell_type": "code",
      "source": [
        "# Read the CSV using Spark's read.csv method\n",
        "df = spark.read.csv('Production.Product.csv', sep=';', encoding='utf-8', header=True, schema=schema)"
      ],
      "metadata": {
        "id": "4J6HI2tORZ2i"
      },
      "execution_count": 41,
      "outputs": []
    },
    {
      "cell_type": "code",
      "source": [
        "# Replace \"null\" cases in any case (upper/lower)\n",
        "df = df.replace(\"NULL\", \"\").replace(\"null\", \"\")"
      ],
      "metadata": {
        "id": "5WmufKFbSYml"
      },
      "execution_count": 42,
      "outputs": []
    },
    {
      "cell_type": "code",
      "source": [
        "# Substitute commas for dots in the required columns\n",
        "# These operations will change column types to string, we will cast them back after\n",
        "df = df.withColumn(\"StandardCost\", regexp_replace(col(\"StandardCost\"), \",\", \".\"))\n",
        "df = df.withColumn(\"ListPrice\", regexp_replace(col(\"ListPrice\"), \",\", \".\"))\n",
        "df.printSchema()"
      ],
      "metadata": {
        "colab": {
          "base_uri": "https://localhost:8080/"
        },
        "id": "cSdH64cASkMw",
        "outputId": "211ae907-bcf7-4329-a463-f9e87a628ffb"
      },
      "execution_count": 43,
      "outputs": [
        {
          "output_type": "stream",
          "name": "stdout",
          "text": [
            "root\n",
            " |-- ProductID: integer (nullable = true)\n",
            " |-- Name: string (nullable = true)\n",
            " |-- ProductNumber: string (nullable = true)\n",
            " |-- MakeFlag: integer (nullable = true)\n",
            " |-- FinishedGoodsFlag: integer (nullable = true)\n",
            " |-- Color: string (nullable = true)\n",
            " |-- SafetyStockLevel: integer (nullable = true)\n",
            " |-- ReorderPoint: integer (nullable = true)\n",
            " |-- StandardCost: string (nullable = true)\n",
            " |-- ListPrice: string (nullable = true)\n",
            " |-- Size: string (nullable = true)\n",
            " |-- SizeUnitMeasureCode: string (nullable = true)\n",
            " |-- WeightUnitMeasureCode: string (nullable = true)\n",
            " |-- Weight: float (nullable = true)\n",
            " |-- DaysToManufacture: integer (nullable = true)\n",
            " |-- ProductLine: string (nullable = true)\n",
            " |-- Class: string (nullable = true)\n",
            " |-- Style: string (nullable = true)\n",
            " |-- ProductSubcategoryID: integer (nullable = true)\n",
            " |-- ProductModelID: integer (nullable = true)\n",
            " |-- SellStartDate: timestamp (nullable = true)\n",
            " |-- SellEndDate: timestamp (nullable = true)\n",
            " |-- DiscontinuedDate: timestamp (nullable = true)\n",
            " |-- rowguid: string (nullable = true)\n",
            " |-- ModifiedDate: timestamp (nullable = true)\n",
            "\n"
          ]
        }
      ]
    },
    {
      "cell_type": "code",
      "source": [
        "# 3. Recast columns back to their original types\n",
        "df = df.withColumn(\"StandardCost\", col(\"StandardCost\").cast(DoubleType()))\n",
        "df = df.withColumn(\"ListPrice\", col(\"ListPrice\").cast(DoubleType()))\n",
        "df.printSchema()"
      ],
      "metadata": {
        "colab": {
          "base_uri": "https://localhost:8080/"
        },
        "id": "JOd4_uIzSn9Y",
        "outputId": "f9cdf3a6-caf3-4b7e-fdc6-b985d0be3b39"
      },
      "execution_count": 44,
      "outputs": [
        {
          "output_type": "stream",
          "name": "stdout",
          "text": [
            "root\n",
            " |-- ProductID: integer (nullable = true)\n",
            " |-- Name: string (nullable = true)\n",
            " |-- ProductNumber: string (nullable = true)\n",
            " |-- MakeFlag: integer (nullable = true)\n",
            " |-- FinishedGoodsFlag: integer (nullable = true)\n",
            " |-- Color: string (nullable = true)\n",
            " |-- SafetyStockLevel: integer (nullable = true)\n",
            " |-- ReorderPoint: integer (nullable = true)\n",
            " |-- StandardCost: double (nullable = true)\n",
            " |-- ListPrice: double (nullable = true)\n",
            " |-- Size: string (nullable = true)\n",
            " |-- SizeUnitMeasureCode: string (nullable = true)\n",
            " |-- WeightUnitMeasureCode: string (nullable = true)\n",
            " |-- Weight: float (nullable = true)\n",
            " |-- DaysToManufacture: integer (nullable = true)\n",
            " |-- ProductLine: string (nullable = true)\n",
            " |-- Class: string (nullable = true)\n",
            " |-- Style: string (nullable = true)\n",
            " |-- ProductSubcategoryID: integer (nullable = true)\n",
            " |-- ProductModelID: integer (nullable = true)\n",
            " |-- SellStartDate: timestamp (nullable = true)\n",
            " |-- SellEndDate: timestamp (nullable = true)\n",
            " |-- DiscontinuedDate: timestamp (nullable = true)\n",
            " |-- rowguid: string (nullable = true)\n",
            " |-- ModifiedDate: timestamp (nullable = true)\n",
            "\n"
          ]
        }
      ]
    },
    {
      "cell_type": "code",
      "source": [
        "df.write.csv('table_product.csv', header=True, mode='overwrite')"
      ],
      "metadata": {
        "id": "QOP-sv6hT6xF"
      },
      "execution_count": 45,
      "outputs": []
    },
    {
      "cell_type": "code",
      "source": [
        "spark.stop()"
      ],
      "metadata": {
        "id": "g-3zjDWQTB8H"
      },
      "execution_count": 46,
      "outputs": []
    }
  ]
}