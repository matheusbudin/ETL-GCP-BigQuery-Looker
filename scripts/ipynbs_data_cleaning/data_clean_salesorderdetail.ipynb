{
  "cells": [
    {
      "cell_type": "code",
      "execution_count": null,
      "metadata": {
        "id": "jeeznaK0VSX9"
      },
      "outputs": [],
      "source": []
    },
    {
      "cell_type": "code",
      "execution_count": 1,
      "metadata": {
        "colab": {
          "base_uri": "https://localhost:8080/"
        },
        "id": "ca3hrXdpVSPV",
        "outputId": "4cdeef43-fbb0-40ca-fb91-44a287713052"
      },
      "outputs": [
        {
          "name": "stdout",
          "output_type": "stream",
          "text": [
            "Collecting pyspark\n",
            "  Downloading pyspark-3.4.1.tar.gz (310.8 MB)\n",
            "\u001b[2K     \u001b[90m━━━━━━━━━━━━━━━━━━━━━━━━━━━━━━━━━━━━━━━\u001b[0m \u001b[32m310.8/310.8 MB\u001b[0m \u001b[31m2.5 MB/s\u001b[0m eta \u001b[36m0:00:00\u001b[0m\n",
            "\u001b[?25h  Preparing metadata (setup.py) ... \u001b[?25l\u001b[?25hdone\n",
            "Requirement already satisfied: py4j==0.10.9.7 in /usr/local/lib/python3.10/dist-packages (from pyspark) (0.10.9.7)\n",
            "Building wheels for collected packages: pyspark\n",
            "  Building wheel for pyspark (setup.py) ... \u001b[?25l\u001b[?25hdone\n",
            "  Created wheel for pyspark: filename=pyspark-3.4.1-py2.py3-none-any.whl size=311285387 sha256=8da840f4b498258e8538fe9e23b1043dbf34393b7988a1886f5a5d3d525e0e67\n",
            "  Stored in directory: /root/.cache/pip/wheels/0d/77/a3/ff2f74cc9ab41f8f594dabf0579c2a7c6de920d584206e0834\n",
            "Successfully built pyspark\n",
            "Installing collected packages: pyspark\n",
            "Successfully installed pyspark-3.4.1\n"
          ]
        }
      ],
      "source": [
        "!pip install pyspark"
      ]
    },
    {
      "cell_type": "code",
      "execution_count": 35,
      "metadata": {
        "id": "tcgVztvaVl6j"
      },
      "outputs": [],
      "source": [
        "from pyspark.sql import SparkSession\n",
        "from pyspark.sql.types import *\n",
        "from pyspark.sql.functions import regexp_replace, when, col"
      ]
    },
    {
      "cell_type": "code",
      "execution_count": 36,
      "metadata": {
        "id": "HJb-gzKuVn7J"
      },
      "outputs": [],
      "source": [
        "spark = SparkSession.builder \\\n",
        "    .appName(\"data_clean_salesorderdetail\") \\\n",
        "    .getOrCreate()"
      ]
    },
    {
      "cell_type": "code",
      "execution_count": null,
      "metadata": {
        "id": "x3w9aG0aZBs3"
      },
      "outputs": [],
      "source": []
    },
    {
      "cell_type": "code",
      "execution_count": 52,
      "metadata": {
        "colab": {
          "base_uri": "https://localhost:8080/"
        },
        "id": "62rrfN9cZBkH",
        "outputId": "3582b5fa-00ea-4290-8b23-602d779816fa"
      },
      "outputs": [
        {
          "name": "stdout",
          "output_type": "stream",
          "text": [
            "+------------+------------------+---------------------+--------+---------+--------------+---------+-----------------+---------+--------------------+-------------------+\n",
            "|SalesOrderID|SalesOrderDetailID|CarrierTrackingNumber|OrderQty|ProductID|SpecialOfferID|UnitPrice|UnitPriceDiscount|LineTotal|             rowguid|       ModifiedDate|\n",
            "+------------+------------------+---------------------+--------+---------+--------------+---------+-----------------+---------+--------------------+-------------------+\n",
            "|       43659|                 1|         4911-403C-98|       1|      776|             1| 2024.994|             0.00| 2024.994|B207C96D-D9E6-402...|2011-05-31 00:00:00|\n",
            "|       43659|                 2|         4911-403C-98|       3|      777|             1| 2024.994|             0.00| 6074.982|7ABB600D-1E77-41B...|2011-05-31 00:00:00|\n",
            "|       43659|                 3|         4911-403C-98|       1|      778|             1| 2024.994|             0.00| 2024.994|475CF8C6-49F6-486...|2011-05-31 00:00:00|\n",
            "|       43659|                 4|         4911-403C-98|       1|      771|             1| 2039.994|             0.00| 2039.994|04C4DE91-5815-45D...|2011-05-31 00:00:00|\n",
            "|       43659|                 5|         4911-403C-98|       1|      772|             1| 2039.994|             0.00| 2039.994|5A74C7D2-E641-438...|2011-05-31 00:00:00|\n",
            "|       43659|                 6|         4911-403C-98|       2|      773|             1| 2039.994|             0.00| 4079.988|CE472532-A4C0-45B...|2011-05-31 00:00:00|\n",
            "|       43659|                 7|         4911-403C-98|       1|      774|             1| 2039.994|             0.00| 2039.994|80667840-F962-4EE...|2011-05-31 00:00:00|\n",
            "|       43659|                 8|         4911-403C-98|       3|      714|             1|  28.8404|             0.00|  86.5212|E9D54907-E7B7-496...|2011-05-31 00:00:00|\n",
            "|       43659|                 9|         4911-403C-98|       1|      716|             1|  28.8404|             0.00|  28.8404|AA542630-BDCD-4CE...|2011-05-31 00:00:00|\n",
            "|       43659|                10|         4911-403C-98|       6|      709|             1|     5.70|             0.00|     34.2|AC769034-3C2F-495...|2011-05-31 00:00:00|\n",
            "|       43659|                11|         4911-403C-98|       2|      712|             1|   5.1865|             0.00|   10.373|06A66921-6B9F-419...|2011-05-31 00:00:00|\n",
            "|       43659|                12|         4911-403C-98|       4|      711|             1|  20.1865|             0.00|   80.746|0E371EE3-253E-4BB...|2011-05-31 00:00:00|\n",
            "|       43660|                13|         6431-4D57-83|       1|      762|             1| 419.4589|             0.00| 419.4589|419A1302-AC7A-404...|2011-05-31 00:00:00|\n",
            "|       43660|                14|         6431-4D57-83|       1|      758|             1|  874.794|             0.00|  874.794|5D0B2B03-1D4C-4C3...|2011-05-31 00:00:00|\n",
            "|       43661|                15|         4E0A-4F89-AE|       1|      745|             1|   809.76|             0.00|   809.76|EDE1759E-6733-4C7...|2011-05-31 00:00:00|\n",
            "|       43661|                16|         4E0A-4F89-AE|       1|      743|             1| 714.7043|             0.00| 714.7043|FE10BF09-D477-485...|2011-05-31 00:00:00|\n",
            "|       43661|                17|         4E0A-4F89-AE|       2|      747|             1| 714.7043|             0.00|1429.4086|B136852E-24C9-400...|2011-05-31 00:00:00|\n",
            "|       43661|                18|         4E0A-4F89-AE|       4|      712|             1|   5.1865|             0.00|   20.746|F0F410B6-BC93-4D7...|2011-05-31 00:00:00|\n",
            "|       43661|                19|         4E0A-4F89-AE|       4|      715|             1|  28.8404|             0.00| 115.3616|AE4CDA7D-9B6E-4AB...|2011-05-31 00:00:00|\n",
            "|       43661|                20|         4E0A-4F89-AE|       2|      742|             1| 722.5949|             0.00|1445.1898|054A9D3B-A178-465...|2011-05-31 00:00:00|\n",
            "+------------+------------------+---------------------+--------+---------+--------------+---------+-----------------+---------+--------------------+-------------------+\n",
            "only showing top 20 rows\n",
            "\n"
          ]
        }
      ],
      "source": [
        "from pyspark.sql import SparkSession\n",
        "from pyspark.sql.types import StructType, StructField, IntegerType, StringType, FloatType, TimestampType\n",
        "from pyspark.sql.functions import regexp_replace\n",
        "\n",
        "spark = SparkSession.builder.appName(\"DDLSchemaConversion\").getOrCreate()\n",
        "\n",
        "# Step 1: Create schema based on DDL\n",
        "schema = StructType([\n",
        "    StructField(\"SalesOrderID\", IntegerType()),\n",
        "    StructField(\"SalesOrderDetailID\", IntegerType(), nullable=False),\n",
        "    StructField(\"CarrierTrackingNumber\", StringType()),\n",
        "    StructField(\"OrderQty\", IntegerType()),\n",
        "    StructField(\"ProductID\", IntegerType()),\n",
        "    StructField(\"SpecialOfferID\", IntegerType()),\n",
        "    StructField(\"UnitPrice\",StringType()),\n",
        "    StructField(\"UnitPriceDiscount\", StringType()),\n",
        "    StructField(\"LineTotal\", FloatType()),\n",
        "    StructField(\"rowguid\", StringType()),\n",
        "    StructField(\"ModifiedDate\", TimestampType())\n",
        "])\n",
        "\n",
        "# Step 2: Read CSV with enforced schema\n",
        "df = spark.read.csv('./raw_data/Sales.SalesOrderDetail.csv', schema=schema, sep=';', header=True)\n",
        "\n",
        "# Step 3: Perform regex operations and other transformations\n",
        "# Remove all \"null\" cases in upper and lower case\n",
        "df = df.withColumn(\"CarrierTrackingNumber\", regexp_replace(df[\"CarrierTrackingNumber\"], \"(?i)NULL\", \"\"))\n",
        "df = df.withColumn(\"rowguid\", regexp_replace(df[\"rowguid\"], \"(?i)NULL\", \"\"))\n",
        "\n",
        "# Substitute commas for dots for specific columns\n",
        "df = df.withColumn(\"UnitPrice\", regexp_replace(df[\"UnitPrice\"], \",\", \".\"))\n",
        "df = df.withColumn(\"UnitPriceDiscount\", regexp_replace(df[\"UnitPriceDiscount\"], \",\", \".\"))\n",
        "\n",
        "df.show()\n"
      ]
    },
    {
      "cell_type": "code",
      "execution_count": 53,
      "metadata": {
        "colab": {
          "base_uri": "https://localhost:8080/"
        },
        "id": "Br5hi9nmZ4GN",
        "outputId": "1d81a5e4-4263-4f9f-b5f1-3caa3adf5ff0"
      },
      "outputs": [
        {
          "name": "stdout",
          "output_type": "stream",
          "text": [
            "+------------+------------------+---------------------+--------+---------+--------------+---------+-----------------+---------+--------------------+-------------------+\n",
            "|SalesOrderID|SalesOrderDetailID|CarrierTrackingNumber|OrderQty|ProductID|SpecialOfferID|UnitPrice|UnitPriceDiscount|LineTotal|             rowguid|       ModifiedDate|\n",
            "+------------+------------------+---------------------+--------+---------+--------------+---------+-----------------+---------+--------------------+-------------------+\n",
            "|       43659|                 1|         4911-403C-98|       1|      776|             1| 2024.994|              0.0| 2024.994|B207C96D-D9E6-402...|2011-05-31 00:00:00|\n",
            "|       43659|                 2|         4911-403C-98|       3|      777|             1| 2024.994|              0.0| 6074.982|7ABB600D-1E77-41B...|2011-05-31 00:00:00|\n",
            "|       43659|                 3|         4911-403C-98|       1|      778|             1| 2024.994|              0.0| 2024.994|475CF8C6-49F6-486...|2011-05-31 00:00:00|\n",
            "|       43659|                 4|         4911-403C-98|       1|      771|             1| 2039.994|              0.0| 2039.994|04C4DE91-5815-45D...|2011-05-31 00:00:00|\n",
            "|       43659|                 5|         4911-403C-98|       1|      772|             1| 2039.994|              0.0| 2039.994|5A74C7D2-E641-438...|2011-05-31 00:00:00|\n",
            "|       43659|                 6|         4911-403C-98|       2|      773|             1| 2039.994|              0.0| 4079.988|CE472532-A4C0-45B...|2011-05-31 00:00:00|\n",
            "|       43659|                 7|         4911-403C-98|       1|      774|             1| 2039.994|              0.0| 2039.994|80667840-F962-4EE...|2011-05-31 00:00:00|\n",
            "|       43659|                 8|         4911-403C-98|       3|      714|             1|  28.8404|              0.0|  86.5212|E9D54907-E7B7-496...|2011-05-31 00:00:00|\n",
            "|       43659|                 9|         4911-403C-98|       1|      716|             1|  28.8404|              0.0|  28.8404|AA542630-BDCD-4CE...|2011-05-31 00:00:00|\n",
            "|       43659|                10|         4911-403C-98|       6|      709|             1|      5.7|              0.0|     34.2|AC769034-3C2F-495...|2011-05-31 00:00:00|\n",
            "|       43659|                11|         4911-403C-98|       2|      712|             1|   5.1865|              0.0|   10.373|06A66921-6B9F-419...|2011-05-31 00:00:00|\n",
            "|       43659|                12|         4911-403C-98|       4|      711|             1|  20.1865|              0.0|   80.746|0E371EE3-253E-4BB...|2011-05-31 00:00:00|\n",
            "|       43660|                13|         6431-4D57-83|       1|      762|             1| 419.4589|              0.0| 419.4589|419A1302-AC7A-404...|2011-05-31 00:00:00|\n",
            "|       43660|                14|         6431-4D57-83|       1|      758|             1|  874.794|              0.0|  874.794|5D0B2B03-1D4C-4C3...|2011-05-31 00:00:00|\n",
            "|       43661|                15|         4E0A-4F89-AE|       1|      745|             1|   809.76|              0.0|   809.76|EDE1759E-6733-4C7...|2011-05-31 00:00:00|\n",
            "|       43661|                16|         4E0A-4F89-AE|       1|      743|             1| 714.7043|              0.0| 714.7043|FE10BF09-D477-485...|2011-05-31 00:00:00|\n",
            "|       43661|                17|         4E0A-4F89-AE|       2|      747|             1| 714.7043|              0.0|1429.4086|B136852E-24C9-400...|2011-05-31 00:00:00|\n",
            "|       43661|                18|         4E0A-4F89-AE|       4|      712|             1|   5.1865|              0.0|   20.746|F0F410B6-BC93-4D7...|2011-05-31 00:00:00|\n",
            "|       43661|                19|         4E0A-4F89-AE|       4|      715|             1|  28.8404|              0.0| 115.3616|AE4CDA7D-9B6E-4AB...|2011-05-31 00:00:00|\n",
            "|       43661|                20|         4E0A-4F89-AE|       2|      742|             1| 722.5949|              0.0|1445.1898|054A9D3B-A178-465...|2011-05-31 00:00:00|\n",
            "+------------+------------------+---------------------+--------+---------+--------------+---------+-----------------+---------+--------------------+-------------------+\n",
            "only showing top 20 rows\n",
            "\n"
          ]
        }
      ],
      "source": [
        "# Cast \"UnitPrice\" and \"UnitPriceDiscount\" to float\n",
        "df = df.withColumn(\"UnitPrice\", col(\"UnitPrice\").cast(FloatType()))\n",
        "df = df.withColumn(\"UnitPriceDiscount\", col(\"UnitPriceDiscount\").cast(FloatType()))\n",
        "\n",
        "df.show()"
      ]
    },
    {
      "cell_type": "code",
      "execution_count": 54,
      "metadata": {
        "id": "WvA3pVU9aO9l"
      },
      "outputs": [],
      "source": [
        "# Writing the transformed dataframe to a new CSV file\n",
        "df.coalesce(1).write.csv('table_salesorderdetail.csv', header=True, mode='overwrite')"
      ]
    },
    {
      "cell_type": "code",
      "execution_count": 55,
      "metadata": {
        "id": "f64LoA8RahPF"
      },
      "outputs": [],
      "source": [
        "spark.stop()"
      ]
    },
    {
      "cell_type": "code",
      "execution_count": null,
      "metadata": {
        "id": "dyixhUglaqUj"
      },
      "outputs": [],
      "source": []
    }
  ],
  "metadata": {
    "colab": {
      "provenance": []
    },
    "kernelspec": {
      "display_name": "Python 3",
      "name": "python3"
    },
    "language_info": {
      "name": "python"
    }
  },
  "nbformat": 4,
  "nbformat_minor": 0
}
