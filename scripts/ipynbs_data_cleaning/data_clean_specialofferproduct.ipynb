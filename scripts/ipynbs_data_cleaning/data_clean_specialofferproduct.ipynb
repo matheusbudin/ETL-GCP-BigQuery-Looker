{
  "cells": [
    {
      "cell_type": "code",
      "execution_count": null,
      "metadata": {
        "id": "_kKErX_-d5jf"
      },
      "outputs": [],
      "source": []
    },
    {
      "cell_type": "code",
      "execution_count": 1,
      "metadata": {
        "colab": {
          "base_uri": "https://localhost:8080/"
        },
        "id": "Ppv45gEKer0J",
        "outputId": "5dee62ba-986a-4b61-c67e-9912756512b8"
      },
      "outputs": [
        {
          "name": "stdout",
          "output_type": "stream",
          "text": [
            "Collecting pyspark\n",
            "  Downloading pyspark-3.4.1.tar.gz (310.8 MB)\n",
            "\u001b[2K     \u001b[90m━━━━━━━━━━━━━━━━━━━━━━━━━━━━━━━━━━━━━━━\u001b[0m \u001b[32m310.8/310.8 MB\u001b[0m \u001b[31m4.5 MB/s\u001b[0m eta \u001b[36m0:00:00\u001b[0m\n",
            "\u001b[?25h  Preparing metadata (setup.py) ... \u001b[?25l\u001b[?25hdone\n",
            "Requirement already satisfied: py4j==0.10.9.7 in /usr/local/lib/python3.10/dist-packages (from pyspark) (0.10.9.7)\n",
            "Building wheels for collected packages: pyspark\n",
            "  Building wheel for pyspark (setup.py) ... \u001b[?25l\u001b[?25hdone\n",
            "  Created wheel for pyspark: filename=pyspark-3.4.1-py2.py3-none-any.whl size=311285387 sha256=bfd7dca782664ba1b26575e69f6a48a86d10bebad200b7899678466de9d83254\n",
            "  Stored in directory: /root/.cache/pip/wheels/0d/77/a3/ff2f74cc9ab41f8f594dabf0579c2a7c6de920d584206e0834\n",
            "Successfully built pyspark\n",
            "Installing collected packages: pyspark\n",
            "Successfully installed pyspark-3.4.1\n"
          ]
        }
      ],
      "source": [
        "!pip install pyspark"
      ]
    },
    {
      "cell_type": "code",
      "execution_count": 20,
      "metadata": {
        "colab": {
          "base_uri": "https://localhost:8080/"
        },
        "id": "XoIsbm5tfBHx",
        "outputId": "0465ac63-5ca0-412f-a42e-a9c37083979b"
      },
      "outputs": [
        {
          "name": "stdout",
          "output_type": "stream",
          "text": [
            "+--------------+---------+--------------------+-------------------+\n",
            "|SpecialOfferID|ProductID|             rowguid|       ModifiedDate|\n",
            "+--------------+---------+--------------------+-------------------+\n",
            "|             1|      680|BB30B868-D86C-455...|2011-04-01 00:00:00|\n",
            "|             1|      706|B3C9A4B1-2AE6-4CB...|2011-04-01 00:00:00|\n",
            "|             1|      707|27B711FE-0B77-4EA...|2011-04-01 00:00:00|\n",
            "|             1|      708|46CBB78B-246E-4D6...|2011-04-01 00:00:00|\n",
            "|             1|      709|CF102AA0-055F-4D2...|2011-04-01 00:00:00|\n",
            "|             1|      710|63718DA1-464B-432...|2011-04-01 00:00:00|\n",
            "|             1|      711|457EB971-D1C9-48C...|2011-04-01 00:00:00|\n",
            "|             1|      712|5B948448-BAE5-4F2...|2011-04-01 00:00:00|\n",
            "|             1|      713|07768F40-6E46-430...|2011-04-01 00:00:00|\n",
            "|             1|      714|85004BCE-C74A-4D4...|2011-04-01 00:00:00|\n",
            "|             1|      715|BE469616-B279-452...|2011-04-01 00:00:00|\n",
            "|             1|      716|96D141FD-1D8E-431...|2011-04-01 00:00:00|\n",
            "|             1|      717|F717C3DC-3DBF-4F4...|2011-04-01 00:00:00|\n",
            "|             1|      718|B4634789-ACBB-470...|2011-04-01 00:00:00|\n",
            "|             1|      719|B0F55004-472E-4C6...|2011-04-01 00:00:00|\n",
            "|             1|      720|691B64BD-C417-478...|2011-04-01 00:00:00|\n",
            "|             1|      721|0FE22357-94A1-408...|2011-04-01 00:00:00|\n",
            "|             1|      722|87AF8A2A-02B8-465...|2011-04-01 00:00:00|\n",
            "|             1|      723|6A155B5E-7E94-4A7...|2011-04-01 00:00:00|\n",
            "|             1|      724|EBFBD8D4-3067-4D2...|2011-04-01 00:00:00|\n",
            "+--------------+---------+--------------------+-------------------+\n",
            "only showing top 20 rows\n",
            "\n"
          ]
        }
      ],
      "source": [
        "from pyspark.sql import SparkSession\n",
        "from pyspark.sql.types import IntegerType, StringType, TimestampType\n",
        "from pyspark.sql import functions as F\n",
        "\n",
        "# 1. Initialize a Spark session\n",
        "spark = SparkSession.builder \\\n",
        "    .appName(\"clean_table_specialofferproduct\") \\\n",
        "    .getOrCreate()\n",
        "\n",
        "# 2. Read the CSV data into a DataFrame\n",
        "df = spark.read.option(\"delimiter\", \";\").csv('./raw_data/Sales.SpecialOfferProduct.csv', header=True,encoding='utf-8', inferSchema=True)\n",
        "\n",
        "# 3. Apply transformations similar to Pandas\n",
        "# Drop duplicates based on 'ProductID'\n",
        "df_without_duplicates = df.dropDuplicates(['ProductID'])\n",
        "\n",
        "# 4. Cast columns to match the desired schema\n",
        "df_with_schema = df_without_duplicates \\\n",
        "    .withColumn(\"SpecialOfferID\", F.col(\"SpecialOfferID\").cast(IntegerType())) \\\n",
        "    .withColumn(\"ProductID\", F.col(\"ProductID\").cast(IntegerType())) \\\n",
        "    .withColumn(\"rowguid\", F.col(\"rowguid\").cast(StringType())) \\\n",
        "    .withColumn(\"ModifiedDate\", F.col(\"ModifiedDate\").cast(TimestampType()))\n",
        "\n",
        "# Show the DataFrame\n",
        "df_with_schema.show()\n",
        "\n"
      ]
    },
    {
      "cell_type": "code",
      "execution_count": 17,
      "metadata": {
        "id": "B9IPywMFgsjC"
      },
      "outputs": [],
      "source": [
        "#df.printSchema()"
      ]
    },
    {
      "cell_type": "code",
      "execution_count": 25,
      "metadata": {
        "id": "oZaR-ogsfPBh"
      },
      "outputs": [],
      "source": [
        "df.coalesce(1).write.csv('table_specialofferproduct.csv', header=True, mode='overwrite')"
      ]
    },
    {
      "cell_type": "code",
      "execution_count": null,
      "metadata": {
        "id": "AlZNW6QMfiQn"
      },
      "outputs": [],
      "source": []
    },
    {
      "cell_type": "code",
      "execution_count": 19,
      "metadata": {
        "id": "6mse10iAfjQk"
      },
      "outputs": [],
      "source": [
        "spark.stop()"
      ]
    }
  ],
  "metadata": {
    "colab": {
      "provenance": []
    },
    "kernelspec": {
      "display_name": "Python 3",
      "name": "python3"
    },
    "language_info": {
      "name": "python"
    }
  },
  "nbformat": 4,
  "nbformat_minor": 0
}
