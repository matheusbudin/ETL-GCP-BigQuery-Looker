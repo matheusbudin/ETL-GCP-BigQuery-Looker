{
  "cells": [
    {
      "cell_type": "code",
      "execution_count": 1,
      "metadata": {
        "colab": {
          "base_uri": "https://localhost:8080/"
        },
        "id": "FU89e0T7bt92",
        "outputId": "7c23066e-337f-41da-badc-5b0d12e3007c"
      },
      "outputs": [
        {
          "name": "stdout",
          "output_type": "stream",
          "text": [
            "Collecting pyspark\n",
            "  Downloading pyspark-3.4.1.tar.gz (310.8 MB)\n",
            "\u001b[2K     \u001b[90m━━━━━━━━━━━━━━━━━━━━━━━━━━━━━━━━━━━━━━━\u001b[0m \u001b[32m310.8/310.8 MB\u001b[0m \u001b[31m3.2 MB/s\u001b[0m eta \u001b[36m0:00:00\u001b[0m\n",
            "\u001b[?25h  Preparing metadata (setup.py) ... \u001b[?25l\u001b[?25hdone\n",
            "Requirement already satisfied: py4j==0.10.9.7 in /usr/local/lib/python3.10/dist-packages (from pyspark) (0.10.9.7)\n",
            "Building wheels for collected packages: pyspark\n",
            "  Building wheel for pyspark (setup.py) ... \u001b[?25l\u001b[?25hdone\n",
            "  Created wheel for pyspark: filename=pyspark-3.4.1-py2.py3-none-any.whl size=311285387 sha256=4a8a81e86185615b559cef488faf5143f5e76889daf50b7f0649d371d52d8afc\n",
            "  Stored in directory: /root/.cache/pip/wheels/0d/77/a3/ff2f74cc9ab41f8f594dabf0579c2a7c6de920d584206e0834\n",
            "Successfully built pyspark\n",
            "Installing collected packages: pyspark\n",
            "Successfully installed pyspark-3.4.1\n"
          ]
        }
      ],
      "source": [
        "!pip install pyspark"
      ]
    },
    {
      "cell_type": "code",
      "execution_count": 8,
      "metadata": {
        "colab": {
          "base_uri": "https://localhost:8080/"
        },
        "id": "wWQc6fFbb_W3",
        "outputId": "11b874e4-cbb5-4ed5-f407-5fb6cccf03e2"
      },
      "outputs": [
        {
          "name": "stdout",
          "output_type": "stream",
          "text": [
            "+------------+--------------+-------------------+-------------------+-------------------+------+---------------+----------------+-------------------+--------------+----------+-------------+-----------+---------------+---------------+------------+------------+----------------------+--------------+---------+---------+---------+---------+-------+--------------------+-------------------+\n",
            "|SalesOrderID|RevisionNumber|          OrderDate|            DueDate|           ShipDate|Status|OnlineOrderFlag|SalesOrderNumber|PurchaseOrderNumber| AccountNumber|CustomerID|SalesPersonID|TerritoryID|BillToAddressID|ShipToAddressID|ShipMethodID|CreditCardID|CreditCardApprovalCode|CurrencyRateID| SubTotal|   TaxAmt|  Freight| TotalDue|Comment|             rowguid|       ModifiedDate|\n",
            "+------------+--------------+-------------------+-------------------+-------------------+------+---------------+----------------+-------------------+--------------+----------+-------------+-----------+---------------+---------------+------------+------------+----------------------+--------------+---------+---------+---------+---------+-------+--------------------+-------------------+\n",
            "|       43659|             8|2011-05-31 00:00:00|2011-06-12 00:00:00|2011-06-07 00:00:00|     5|              0|         SO43659|        PO522145787|10-4020-000676|     29825|          279|          5|            985|            985|           5|       16281|         105041Vi84182|          null|20565.621|1971.5149| 616.0984|23153.234|       |79B65321-39CA-411...|2011-06-07 00:00:00|\n",
            "|       43660|             8|2011-05-31 00:00:00|2011-06-12 00:00:00|2011-06-07 00:00:00|     5|              0|         SO43660|      PO18850127500|10-4020-000117|     29672|          279|          5|            921|            921|           5|        5618|         115213Vi29411|          null|1294.2529| 124.2483|  38.8276|1457.3289|       |738DC42D-D03B-48A...|2011-06-07 00:00:00|\n",
            "|       43661|             8|2011-05-31 00:00:00|2011-06-12 00:00:00|2011-06-07 00:00:00|     5|              0|         SO43661|      PO18473189620|10-4020-000442|     29734|          282|          6|            517|            517|           5|        1346|           85274Vi6854|             4|32726.479|3153.7695|  985.553|  36865.8|       |D91B9131-18A4-4A1...|2011-06-07 00:00:00|\n",
            "|       43662|             8|2011-05-31 00:00:00|2011-06-12 00:00:00|2011-06-07 00:00:00|     5|              0|         SO43662|      PO18444174044|10-4020-000227|     29994|          282|          6|            482|            482|           5|       10456|         125295Vi53935|             4| 28832.53|2775.1646| 867.2389|32474.932|       |4A1ECFC0-CC3A-474...|2011-06-07 00:00:00|\n",
            "|       43663|             8|2011-05-31 00:00:00|2011-06-12 00:00:00|2011-06-07 00:00:00|     5|              0|         SO43663|      PO18009186470|10-4020-000510|     29565|          276|          4|           1073|           1073|           5|        4322|          45303Vi22691|          null| 419.4589|  40.2681|  12.5838| 472.3108|       |9B1E7A40-6AE0-4AD...|2011-06-07 00:00:00|\n",
            "|       43664|             8|2011-05-31 00:00:00|2011-06-12 00:00:00|2011-06-07 00:00:00|     5|              0|         SO43664|      PO16617121983|10-4020-000397|     29898|          280|          1|            876|            876|           5|         806|           95555Vi4081|          null| 24432.61|2344.9922|   732.81| 27510.41|       |22A8A5DA-8C22-42A...|2011-06-07 00:00:00|\n",
            "|       43665|             8|2011-05-31 00:00:00|2011-06-12 00:00:00|2011-06-07 00:00:00|     5|              0|         SO43665|      PO16588191572|10-4020-000146|     29580|          283|          1|            849|            849|           5|       15232|          35568Vi78804|          null|14352.771|1375.9427| 429.9821|16158.696|       |5602C304-853C-43D...|2011-06-07 00:00:00|\n",
            "|       43666|             8|2011-05-31 00:00:00|2011-06-12 00:00:00|2011-06-07 00:00:00|     5|              0|         SO43666|      PO16008173883|10-4020-000511|     30052|          276|          4|           1074|           1074|           5|       13349|         105623Vi69217|          null|5056.4897| 486.3747| 151.9921|5694.8564|       |E2A90057-1366-448...|2011-06-07 00:00:00|\n",
            "|       43667|             8|2011-05-31 00:00:00|2011-06-12 00:00:00|2011-06-07 00:00:00|     5|              0|         SO43667|      PO15428132599|10-4020-000646|     29974|          277|          3|            629|            629|           5|       10370|          55680Vi53503|          null| 6107.082| 586.1203| 183.1626|6876.3647|       |86D5237D-432D-4B2...|2011-06-07 00:00:00|\n",
            "|       43668|             8|2011-05-31 00:00:00|2011-06-12 00:00:00|2011-06-07 00:00:00|     5|              0|         SO43668|      PO14732180295|10-4020-000514|     29614|          282|          6|            529|            529|           5|        1566|           85817Vi8045|             4|35944.156|3461.7654|1081.8018|40487.723|       |281CC355-D538-494...|2011-06-07 00:00:00|\n",
            "|       43669|             8|2011-05-31 00:00:00|2011-06-12 00:00:00|2011-06-07 00:00:00|     5|              0|         SO43669|      PO14123169936|10-4020-000578|     29747|          283|          1|            895|            895|           5|       15538|          25877Vi80261|          null| 714.7043|  70.5175|  22.0367| 807.2585|       |FABFC5C2-E034-4E0...|2011-06-07 00:00:00|\n",
            "|       43670|             8|2011-05-31 00:00:00|2011-06-12 00:00:00|2011-06-07 00:00:00|     5|              0|         SO43670|      PO14384116310|10-4020-000504|     29566|          275|          3|            810|            810|           5|       18017|         105888Vi93490|          null| 6122.082| 587.5603| 183.6126| 6893.255|       |573E52A7-573F-40B...|2011-06-07 00:00:00|\n",
            "|       43671|             8|2011-05-31 00:00:00|2011-06-12 00:00:00|2011-06-07 00:00:00|     5|              0|         SO43671|      PO13978119376|10-4020-000200|     29890|          283|          1|            855|            855|           5|       13693|          25904Vi70960|          null|8128.7876| 780.8136| 244.0042| 9153.605|       |005FDA9D-62E1-400...|2011-06-07 00:00:00|\n",
            "|       43672|             8|2011-05-31 00:00:00|2011-06-12 00:00:00|2011-06-07 00:00:00|     5|              0|         SO43672|      PO13862153537|10-4020-000119|     30067|          282|          6|            464|            464|           5|        3980|          95915Vi20982|             4| 6124.182| 587.6023| 183.6257|  6895.41|       |194202AA-8E15-493...|2011-06-07 00:00:00|\n",
            "|       43673|             8|2011-05-31 00:00:00|2011-06-12 00:00:00|2011-06-07 00:00:00|     5|              0|         SO43673|      PO13775141242|10-4020-000618|     29844|          275|          2|            821|            821|           5|        1417|           35931Vi7271|          null|3746.2014| 357.9614| 111.8629| 4216.026|       |C5CD3AE9-41F5-4B7...|2011-06-07 00:00:00|\n",
            "|       43674|             8|2011-05-31 00:00:00|2011-06-12 00:00:00|2011-06-07 00:00:00|     5|              0|         SO43674|      PO12760141756|10-4020-000083|     29596|          282|          6|            458|            458|           5|       19204|          26081Vi99806|             4| 2624.382| 251.9407|  78.7315|2955.0542|       |CE8BCA02-F705-4AA...|2011-06-07 00:00:00|\n",
            "|       43675|             8|2011-05-31 00:00:00|2011-06-12 00:00:00|2011-06-07 00:00:00|     5|              0|         SO43675|      PO12412186464|10-4020-000670|     29827|          277|          3|            631|            631|           5|       11886|         126121Vi61402|          null|  5716.31| 546.8759| 170.8987| 6434.085|       |9F2CF0EE-F2B8-44D...|2011-06-07 00:00:00|\n",
            "|       43676|             8|2011-05-31 00:00:00|2011-06-12 00:00:00|2011-06-07 00:00:00|     5|              0|         SO43676|      PO11861165059|10-4020-000017|     29811|          275|          5|            755|            755|           5|       18153|          36168Vi94127|          null|14203.458| 1363.266| 426.0206|15992.744|       |28C73732-D2FD-4F0...|2011-06-07 00:00:00|\n",
            "|       43677|             8|2011-05-31 00:00:00|2011-06-12 00:00:00|2011-06-07 00:00:00|     5|              0|         SO43677|      PO11049174786|10-4020-000679|     29824|          278|          6|            556|            556|           5|       14030|          16302Vi72763|             4| 7793.111| 747.1011| 233.4691| 8773.681|       |95FAAF28-6495-40B...|2011-06-07 00:00:00|\n",
            "|       43678|             8|2011-05-31 00:00:00|2011-06-12 00:00:00|2011-06-07 00:00:00|     5|              0|         SO43678|      PO10817150168|10-4020-000203|     29889|          281|          4|           1021|           1021|           5|        5093|          66363Vi26658|          null| 9799.924|  942.074| 294.3981|11036.396|       |7F4B7542-638E-41C...|2011-06-07 00:00:00|\n",
            "+------------+--------------+-------------------+-------------------+-------------------+------+---------------+----------------+-------------------+--------------+----------+-------------+-----------+---------------+---------------+------------+------------+----------------------+--------------+---------+---------+---------+---------+-------+--------------------+-------------------+\n",
            "only showing top 20 rows\n",
            "\n",
            "root\n",
            " |-- SalesOrderID: integer (nullable = true)\n",
            " |-- RevisionNumber: integer (nullable = true)\n",
            " |-- OrderDate: timestamp (nullable = true)\n",
            " |-- DueDate: timestamp (nullable = true)\n",
            " |-- ShipDate: timestamp (nullable = true)\n",
            " |-- Status: integer (nullable = true)\n",
            " |-- OnlineOrderFlag: integer (nullable = true)\n",
            " |-- SalesOrderNumber: string (nullable = true)\n",
            " |-- PurchaseOrderNumber: string (nullable = true)\n",
            " |-- AccountNumber: string (nullable = true)\n",
            " |-- CustomerID: integer (nullable = true)\n",
            " |-- SalesPersonID: integer (nullable = true)\n",
            " |-- TerritoryID: integer (nullable = true)\n",
            " |-- BillToAddressID: integer (nullable = true)\n",
            " |-- ShipToAddressID: integer (nullable = true)\n",
            " |-- ShipMethodID: integer (nullable = true)\n",
            " |-- CreditCardID: integer (nullable = true)\n",
            " |-- CreditCardApprovalCode: string (nullable = true)\n",
            " |-- CurrencyRateID: integer (nullable = true)\n",
            " |-- SubTotal: float (nullable = true)\n",
            " |-- TaxAmt: float (nullable = true)\n",
            " |-- Freight: float (nullable = true)\n",
            " |-- TotalDue: float (nullable = true)\n",
            " |-- Comment: string (nullable = true)\n",
            " |-- rowguid: string (nullable = true)\n",
            " |-- ModifiedDate: timestamp (nullable = true)\n",
            "\n"
          ]
        }
      ],
      "source": [
        "from pyspark.sql import SparkSession\n",
        "from pyspark.sql.types import *\n",
        "from pyspark.sql.functions import *\n",
        "\n",
        "spark = SparkSession.builder.appName(\"PandasToPySpark\").getOrCreate()\n",
        "\n",
        "# Read the CSV without specifying the schema\n",
        "df = spark.read.csv('./raw_data/Sales.SalesOrderHeader.csv', sep=';', header=True)  # Assuming CSV has headers\n",
        "\n",
        "# Replace \"NULL\" (case insensitive) with empty string\n",
        "for column in df.columns:\n",
        "    # Store the original data type\n",
        "    original_type = df.schema[column].dataType\n",
        "\n",
        "    # Replace \"null\" cases and then cast back to original type\n",
        "    df = df.withColumn(column, regexp_replace(col(column), \"(?i)NULL\", \"\").cast(original_type))\n",
        "\n",
        "# Convert specific columns to the right data type and drop NULL values\n",
        "df = df.withColumn(\"SalesPersonID\", col(\"SalesPersonID\").cast(IntegerType())).filter(col(\"SalesPersonID\").isNotNull())\n",
        "df = df.withColumn(\"CreditCardID\", col(\"CreditCardID\").cast(IntegerType())).filter(col(\"CreditCardID\").isNotNull())\n",
        "\n",
        "# Replace commas with dots for specified columns\n",
        "cols_to_update = [\"SubTotal\", \"TaxAmt\", \"Freight\", \"TotalDue\"]\n",
        "for col_name in cols_to_update:\n",
        "    df = df.withColumn(col_name, regexp_replace(col(col_name), \",\", \".\").cast(FloatType()))\n",
        "\n",
        "# Now, apply the strict schema\n",
        "df = df.select(\n",
        "    col(\"SalesOrderID\").cast(IntegerType()).alias(\"SalesOrderID\"),\n",
        "    col(\"RevisionNumber\").cast(IntegerType()).alias(\"RevisionNumber\"),\n",
        "    col(\"OrderDate\").cast(TimestampType()).alias(\"OrderDate\"),\n",
        "    col(\"DueDate\").cast(TimestampType()).alias(\"DueDate\"),\n",
        "    col(\"ShipDate\").cast(TimestampType()).alias(\"ShipDate\"),\n",
        "    col(\"Status\").cast(IntegerType()).alias(\"Status\"),\n",
        "    col(\"OnlineOrderFlag\").cast(IntegerType()).alias(\"OnlineOrderFlag\"),\n",
        "    col(\"SalesOrderNumber\").alias(\"SalesOrderNumber\"),\n",
        "    col(\"PurchaseOrderNumber\").alias(\"PurchaseOrderNumber\"),\n",
        "    col(\"AccountNumber\").alias(\"AccountNumber\"),\n",
        "    col(\"CustomerID\").cast(IntegerType()).alias(\"CustomerID\"),\n",
        "    col(\"SalesPersonID\").cast(IntegerType()).alias(\"SalesPersonID\"),\n",
        "    col(\"TerritoryID\").cast(IntegerType()).alias(\"TerritoryID\"),\n",
        "    col(\"BillToAddressID\").cast(IntegerType()).alias(\"BillToAddressID\"),\n",
        "    col(\"ShipToAddressID\").cast(IntegerType()).alias(\"ShipToAddressID\"),\n",
        "    col(\"ShipMethodID\").cast(IntegerType()).alias(\"ShipMethodID\"),\n",
        "    col(\"CreditCardID\").cast(IntegerType()).alias(\"CreditCardID\"),\n",
        "    col(\"CreditCardApprovalCode\").alias(\"CreditCardApprovalCode\"),\n",
        "    col(\"CurrencyRateID\").cast(IntegerType()).alias(\"CurrencyRateID\"),\n",
        "    col(\"SubTotal\").cast(FloatType()).alias(\"SubTotal\"),\n",
        "    col(\"TaxAmt\").cast(FloatType()).alias(\"TaxAmt\"),\n",
        "    col(\"Freight\").cast(FloatType()).alias(\"Freight\"),\n",
        "    col(\"TotalDue\").cast(FloatType()).alias(\"TotalDue\"),\n",
        "    col(\"Comment\").alias(\"Comment\"),\n",
        "    col(\"rowguid\").alias(\"rowguid\"),\n",
        "    col(\"ModifiedDate\").cast(TimestampType()).alias(\"ModifiedDate\")\n",
        ")\n",
        "\n",
        "df.show()\n",
        "#df.printSchema()"
      ]
    },
    {
      "cell_type": "code",
      "execution_count": 7,
      "metadata": {
        "id": "psjW9RXud_W_"
      },
      "outputs": [],
      "source": [
        "# Writing the transformed dataframe to a new CSV file\n",
        "df.coalesce(1).write.csv('table_salesorderheader.csv', header=True, mode='overwrite')"
      ]
    },
    {
      "cell_type": "code",
      "execution_count": 9,
      "metadata": {
        "id": "peZOTXMHeEjh"
      },
      "outputs": [],
      "source": [
        "spark.stop()"
      ]
    }
  ],
  "metadata": {
    "colab": {
      "provenance": []
    },
    "kernelspec": {
      "display_name": "Python 3",
      "name": "python3"
    },
    "language_info": {
      "name": "python"
    }
  },
  "nbformat": 4,
  "nbformat_minor": 0
}
